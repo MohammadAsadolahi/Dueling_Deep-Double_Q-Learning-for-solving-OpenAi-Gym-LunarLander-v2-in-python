{
  "cells": [
    {
      "cell_type": "markdown",
      "source": [
        "# WRITTEN BY MOHAMMAD ASADOLAHI\n",
        "# Mohammad.E.Asadolahi@gmail.com\n",
        "# https://github.com/mohammadAsadolahi"
      ],
      "metadata": {
        "id": "UWN4lXzJoCfB"
      }
    },
    {
      "cell_type": "code",
      "execution_count": 1,
      "metadata": {
        "id": "8x-y8DACYp0A"
      },
      "outputs": [],
      "source": [
        "import numpy as np\n",
        "import gym\n",
        "from keras.layers import Dense, Activation\n",
        "from keras.models import Sequential, load_model\n",
        "import keras\n",
        "import tensorflow as tf\n",
        "import numpy as np\n",
        "import matplotlib.pyplot as plt"
      ]
    },
    {
      "cell_type": "code",
      "execution_count": 2,
      "metadata": {
        "colab": {
          "base_uri": "https://localhost:8080/"
        },
        "id": "NY4U5CiFZm_T",
        "outputId": "cd1b408b-d4db-4b8c-852b-7f7583f39d70"
      },
      "outputs": [
        {
          "output_type": "stream",
          "name": "stdout",
          "text": [
            "Collecting box2d-py\n",
            "  Downloading box2d_py-2.3.8-cp37-cp37m-manylinux1_x86_64.whl (448 kB)\n",
            "\u001b[?25l\r\u001b[K     |▊                               | 10 kB 18.0 MB/s eta 0:00:01\r\u001b[K     |█▌                              | 20 kB 11.4 MB/s eta 0:00:01\r\u001b[K     |██▏                             | 30 kB 9.1 MB/s eta 0:00:01\r\u001b[K     |███                             | 40 kB 8.3 MB/s eta 0:00:01\r\u001b[K     |███▋                            | 51 kB 4.6 MB/s eta 0:00:01\r\u001b[K     |████▍                           | 61 kB 5.4 MB/s eta 0:00:01\r\u001b[K     |█████▏                          | 71 kB 5.4 MB/s eta 0:00:01\r\u001b[K     |█████▉                          | 81 kB 4.1 MB/s eta 0:00:01\r\u001b[K     |██████▋                         | 92 kB 4.6 MB/s eta 0:00:01\r\u001b[K     |███████▎                        | 102 kB 5.0 MB/s eta 0:00:01\r\u001b[K     |████████                        | 112 kB 5.0 MB/s eta 0:00:01\r\u001b[K     |████████▊                       | 122 kB 5.0 MB/s eta 0:00:01\r\u001b[K     |█████████▌                      | 133 kB 5.0 MB/s eta 0:00:01\r\u001b[K     |██████████▎                     | 143 kB 5.0 MB/s eta 0:00:01\r\u001b[K     |███████████                     | 153 kB 5.0 MB/s eta 0:00:01\r\u001b[K     |███████████▊                    | 163 kB 5.0 MB/s eta 0:00:01\r\u001b[K     |████████████▍                   | 174 kB 5.0 MB/s eta 0:00:01\r\u001b[K     |█████████████▏                  | 184 kB 5.0 MB/s eta 0:00:01\r\u001b[K     |█████████████▉                  | 194 kB 5.0 MB/s eta 0:00:01\r\u001b[K     |██████████████▋                 | 204 kB 5.0 MB/s eta 0:00:01\r\u001b[K     |███████████████▍                | 215 kB 5.0 MB/s eta 0:00:01\r\u001b[K     |████████████████                | 225 kB 5.0 MB/s eta 0:00:01\r\u001b[K     |████████████████▉               | 235 kB 5.0 MB/s eta 0:00:01\r\u001b[K     |█████████████████▌              | 245 kB 5.0 MB/s eta 0:00:01\r\u001b[K     |██████████████████▎             | 256 kB 5.0 MB/s eta 0:00:01\r\u001b[K     |███████████████████             | 266 kB 5.0 MB/s eta 0:00:01\r\u001b[K     |███████████████████▊            | 276 kB 5.0 MB/s eta 0:00:01\r\u001b[K     |████████████████████▌           | 286 kB 5.0 MB/s eta 0:00:01\r\u001b[K     |█████████████████████▏          | 296 kB 5.0 MB/s eta 0:00:01\r\u001b[K     |██████████████████████          | 307 kB 5.0 MB/s eta 0:00:01\r\u001b[K     |██████████████████████▋         | 317 kB 5.0 MB/s eta 0:00:01\r\u001b[K     |███████████████████████▍        | 327 kB 5.0 MB/s eta 0:00:01\r\u001b[K     |████████████████████████        | 337 kB 5.0 MB/s eta 0:00:01\r\u001b[K     |████████████████████████▉       | 348 kB 5.0 MB/s eta 0:00:01\r\u001b[K     |█████████████████████████▋      | 358 kB 5.0 MB/s eta 0:00:01\r\u001b[K     |██████████████████████████▎     | 368 kB 5.0 MB/s eta 0:00:01\r\u001b[K     |███████████████████████████     | 378 kB 5.0 MB/s eta 0:00:01\r\u001b[K     |███████████████████████████▊    | 389 kB 5.0 MB/s eta 0:00:01\r\u001b[K     |████████████████████████████▌   | 399 kB 5.0 MB/s eta 0:00:01\r\u001b[K     |█████████████████████████████▏  | 409 kB 5.0 MB/s eta 0:00:01\r\u001b[K     |██████████████████████████████  | 419 kB 5.0 MB/s eta 0:00:01\r\u001b[K     |██████████████████████████████▊ | 430 kB 5.0 MB/s eta 0:00:01\r\u001b[K     |███████████████████████████████▍| 440 kB 5.0 MB/s eta 0:00:01\r\u001b[K     |████████████████████████████████| 448 kB 5.0 MB/s \n",
            "\u001b[?25hInstalling collected packages: box2d-py\n",
            "Successfully installed box2d-py-2.3.8\n",
            "Requirement already satisfied: gym[Box_2D] in /usr/local/lib/python3.7/dist-packages (0.17.3)\n",
            "\u001b[33mWARNING: gym 0.17.3 does not provide the extra 'box_2d'\u001b[0m\n",
            "Requirement already satisfied: cloudpickle<1.7.0,>=1.2.0 in /usr/local/lib/python3.7/dist-packages (from gym[Box_2D]) (1.3.0)\n",
            "Requirement already satisfied: scipy in /usr/local/lib/python3.7/dist-packages (from gym[Box_2D]) (1.4.1)\n",
            "Requirement already satisfied: numpy>=1.10.4 in /usr/local/lib/python3.7/dist-packages (from gym[Box_2D]) (1.21.6)\n",
            "Requirement already satisfied: pyglet<=1.5.0,>=1.4.0 in /usr/local/lib/python3.7/dist-packages (from gym[Box_2D]) (1.5.0)\n",
            "Requirement already satisfied: future in /usr/local/lib/python3.7/dist-packages (from pyglet<=1.5.0,>=1.4.0->gym[Box_2D]) (0.16.0)\n"
          ]
        }
      ],
      "source": [
        "!pip3 install box2d-py\n",
        "!pip3 install gym[Box_2D]"
      ]
    },
    {
      "cell_type": "code",
      "execution_count": 3,
      "metadata": {
        "id": "6CbiEYt9YyTr"
      },
      "outputs": [],
      "source": [
        "env = gym.make('LunarLander-v2')"
      ]
    },
    {
      "cell_type": "code",
      "execution_count": 4,
      "metadata": {
        "id": "dLT6a5HGJZEe"
      },
      "outputs": [],
      "source": [
        "class replayBuffer:\n",
        "  def __init__(self,maxSize,stateDim):\n",
        "    self.state=np.zeros((maxSize,stateDim))\n",
        "    self.action=np.zeros(maxSize,dtype= np.int8)\n",
        "    self.reward=np.zeros(maxSize)\n",
        "    self.done=np.zeros(maxSize,)\n",
        "    self.nextState=np.zeros((maxSize,stateDim))\n",
        "    self.maxSize=maxSize\n",
        "    self.curser=0\n",
        "    self.size=0\n",
        "\n",
        "  def save(self,state,action,reward,nextState,done):\n",
        "    self.state[self.curser]=state\n",
        "    self.action[self.curser]=action\n",
        "    self.reward[self.curser]=reward\n",
        "    self.nextState[self.curser]=nextState\n",
        "    self.done[self.curser]=done\n",
        "    self.curser=(self.curser+1)%self.maxSize\n",
        "    if self.size<self.maxSize:\n",
        "      self.size+=1 \n",
        "      \n",
        "  def sample(self,batchSize):\n",
        "    batchSize=min(self.size,batchSize-1)\n",
        "    indexes=np.random.choice([i for i in range(self.size-1)],batchSize)\n",
        "    return self.state[indexes],self.action[indexes],self.reward[indexes],self.nextState[indexes],self.done[indexes]\n"
      ]
    },
    {
      "cell_type": "code",
      "execution_count": 5,
      "metadata": {
        "id": "QOdvJQYqZRYV"
      },
      "outputs": [],
      "source": [
        "class DuelingNueralNetwork(keras.Model):\n",
        "  def __init__(self,input,output):\n",
        "    super(DuelingNueralNetwork, self).__init__()\n",
        "    # self.inputLayer=keras.Input(shape=(input,))\n",
        "    self.layer1=Dense(input,activation='relu')\n",
        "    self.layer2=Dense(256,activation='relu')\n",
        "    self.Vdense=Dense(64,activation='relu')\n",
        "    self.Adense=Dense(64,activation='relu')\n",
        "    self.V=Dense(1,activation='linear')\n",
        "    self.A=Dense(output,activation='linear')\n",
        "  def call(self,inputs):\n",
        "    output=self.layer1(inputs)\n",
        "    output=self.layer2(output)\n",
        "    outputV=self.Vdense(output)\n",
        "    outputA=self.Adense(output)\n",
        "    outputV=self.V(outputV)\n",
        "    outputA=self.A(outputA)\n",
        "    return outputV+(outputA-(tf.math.reduce_mean(outputA,axis=1,keepdims=True)))\n"
      ]
    },
    {
      "cell_type": "code",
      "execution_count": 6,
      "metadata": {
        "id": "Y37LHqC2RQEs"
      },
      "outputs": [],
      "source": [
        "class Agent:\n",
        "  def __init__(self,stateShape,actionShape,exploreRate,exploreRateDecay,minimumExploreRate,gamma,copyNetsCycle):\n",
        "      self.gamma=gamma\n",
        "      self.exploreRate=exploreRate\n",
        "      self.exploreRateDecay=exploreRateDecay\n",
        "      self.minimumExploreRate=minimumExploreRate\n",
        "      self.actionShape=actionShape\n",
        "      self.memory=replayBuffer(1000000,stateShape)\n",
        "      self.model=DuelingNueralNetwork(stateShape,actionShape)\n",
        "      self.model.compile(optimizer='Adam',loss='mse')\n",
        "      self.tModel=DuelingNueralNetwork(stateShape,actionShape)\n",
        "      self.tModel.compile(optimizer='Adam',loss='mse')\n",
        "      self.learnThreshold=0\n",
        "      self.copyNetsCycle=copyNetsCycle\n",
        "\n",
        "  def getAction(self,state):\n",
        "    if np.random.random()<=self.exploreRate:\n",
        "      return np.random.choice([i for i in range(env.action_space.n)])\n",
        "    else:\n",
        "      return np.argmax(self.model.predict(np.expand_dims(state,axis=0))[0])\n",
        "\n",
        "  def exploreDecay(self):\n",
        "      self.exploreRate=max(self.exploreRate*self.exploreRateDecay,self.minimumExploreRate)\n",
        "\n",
        "  def saveModel(self,modelName=\"DuelingDQN_LunarLanderV2.h\"):\n",
        "      self.model.save_weights(f\"{modelName}\")\n",
        "\n",
        "  def loadModel(self,modelName=\"DuelingDQN_LunarLanderV2.h\"):\n",
        "      self.model.load_weights(f\"{modelName}\")\n",
        "      self.tModel.set_weights(self.model.get_weights())\n",
        "      \n",
        "  def learn(self,batchSize=64):\n",
        "    if self.memory.size>batchSize:\n",
        "      states,actions,rewards,nextStates,done=self.memory.sample(batchSize)\n",
        "      qState=self.model.predict(states)\n",
        "      qNextState=self.model.predict(nextStates)\n",
        "      qNextStateTarget=self.tModel.predict(nextStates)\n",
        "      maxActions=np.argmax(qNextState,axis=1)\n",
        "      batchIndex = np.arange(batchSize-1, dtype=np.int32)\n",
        "      qState[batchIndex,actions]=(rewards+(self.gamma*qNextStateTarget[batchIndex,maxActions.astype(int)]*(1-done)))\n",
        "      _=self.model.fit(x=states,y=qState,verbose=0)\n",
        "      self.learnThreshold+=1\n",
        "      self.exploreDecay()\n",
        "      if(self.learnThreshold%self.copyNetsCycle)==0:\n",
        "        self.tModel.set_weights(self.model.get_weights())\n",
        "        # self.saveModel()\n",
        "        self.learnThreshold=0"
      ]
    },
    {
      "cell_type": "code",
      "execution_count": 7,
      "metadata": {
        "id": "M3fwkBPoSXHb"
      },
      "outputs": [],
      "source": [
        "agent=Agent(stateShape=env.observation_space.shape[0],actionShape=env.action_space.n\\\n",
        "            ,exploreRate=1.0,exploreRateDecay=0.9995,minimumExploreRate=0.01,gamma=0.99,copyNetsCycle=100)\n",
        "# agent.loadModel()"
      ]
    },
    {
      "cell_type": "code",
      "source": [
        "averageRewards=[]\n",
        "totalRewards=[]\n",
        "for i in range(1,150):\n",
        "  done=False\n",
        "  state=env.reset()\n",
        "  rewards=0\n",
        "  while not done:\n",
        "    action=agent.getAction(state)\n",
        "    nextState,reward,done,info=env.step(action)\n",
        "    agent.memory.save(state,action,reward,nextState,int(done))\n",
        "    rewards+=reward\n",
        "    state=nextState\n",
        "    agent.learn(batchSize=64)\n",
        "  totalRewards.append(rewards)\n",
        "  averageRewards.append(sum(totalRewards)/len(totalRewards))\n",
        "  print(f\"episode: {i}   reward: {rewards}  avg so far:{averageRewards[-1]} exploreRate:{agent.exploreRate}\")"
      ],
      "metadata": {
        "colab": {
          "base_uri": "https://localhost:8080/",
          "height": 1000
        },
        "id": "Ld9e0nIucmo_",
        "outputId": "edaa13c4-84c9-4577-8959-19e5e1a54451"
      },
      "execution_count": 8,
      "outputs": [
        {
          "metadata": {
            "tags": null
          },
          "name": "stdout",
          "output_type": "stream",
          "text": [
            "episode: 1   reward: -196.62173234737966  avg so far:-196.62173234737966 exploreRate:0.9797036738060285\n",
            "episode: 2   reward: -126.43864081669011  avg so far:-161.5301865820349 exploreRate:0.9356473554026741\n",
            "episode: 3   reward: -88.59341764840735  avg so far:-137.21793027082572 exploreRate:0.9048147898403269\n",
            "episode: 4   reward: -280.6250358455504  avg so far:-173.0697066645069 exploreRate:0.8632622413666939\n",
            "episode: 5   reward: -125.57575442538703  avg so far:-163.57091621668292 exploreRate:0.8236179445087961\n",
            "episode: 6   reward: -138.35513289098517  avg so far:-159.36828566239996 exploreRate:0.781092443499295\n",
            "episode: 7   reward: -80.83460790077629  avg so far:-148.14918883931088 exploreRate:0.7304616655455853\n",
            "episode: 8   reward: -184.00731125657663  avg so far:-152.6314541414691 exploreRate:0.7011111960778661\n",
            "episode: 9   reward: -163.34381372300635  avg so far:-153.82171631719547 exploreRate:0.6739504696830434\n",
            "episode: 10   reward: -176.49021976097188  avg so far:-156.0885666615731 exploreRate:0.6227448376523007\n",
            "episode: 11   reward: -79.3503798357092  avg so far:-149.11236785922185 exploreRate:0.5660106993941509\n",
            "episode: 12   reward: -188.45472696364115  avg so far:-152.39089778459012 exploreRate:0.5027451324062566\n",
            "episode: 13   reward: -274.9413985448974  avg so far:-161.81785938153686 exploreRate:0.3565581866813116\n",
            "episode: 14   reward: -98.41087991974528  avg so far:-157.2887894199803 exploreRate:0.3255365308962118\n",
            "episode: 15   reward: -16.243631785088496  avg so far:-147.8857789109875 exploreRate:0.30261350473635873\n",
            "episode: 16   reward: -40.99850845209872  avg so far:-141.20532450730695 exploreRate:0.28569992581268916\n",
            "episode: 17   reward: -60.95662737755172  avg so far:-136.484812911439 exploreRate:0.2659808114058219\n",
            "episode: 18   reward: -308.07579400340467  avg so far:-146.01764519432598 exploreRate:0.2533854987579839\n",
            "episode: 19   reward: -141.9789555130618  avg so far:-145.8050825795226 exploreRate:0.23401662455405253\n",
            "episode: 20   reward: -74.95735594343921  avg so far:-142.26269624771845 exploreRate:0.22160101349444103\n",
            "episode: 21   reward: -203.2443272865504  avg so far:-145.16658344004378 exploreRate:0.21058003068431722\n",
            "episode: 22   reward: -65.90497925603371  avg so far:-141.56378324986147 exploreRate:0.19206671132027073\n",
            "episode: 23   reward: -225.5226306015878  avg so far:-145.21416791732784 exploreRate:0.17836361727453864\n",
            "episode: 24   reward: -147.35990750802236  avg so far:-145.30357373360678 exploreRate:0.15190937439092392\n",
            "episode: 25   reward: -27.415511326696546  avg so far:-140.58805123733038 exploreRate:0.1343910033799564\n",
            "episode: 26   reward: -44.24943873506113  avg so far:-136.8827199872431 exploreRate:0.12294427811756381\n",
            "episode: 27   reward: -57.500047948558596  avg so far:-133.94262102284736 exploreRate:0.10974975776826656\n",
            "episode: 28   reward: -120.8794843960634  avg so far:-133.47608042903366 exploreRate:0.10237939422002015\n",
            "episode: 29   reward: -108.39731927250659  avg so far:-132.61129556156723 exploreRate:0.09806933322897093\n",
            "episode: 30   reward: -67.69225204978778  avg so far:-130.44732744450792 exploreRate:0.08533971591248544\n",
            "episode: 31   reward: -10.523247337606477  avg so far:-126.57880873138205 exploreRate:0.07913229464095045\n",
            "episode: 32   reward: -57.2331044681556  avg so far:-124.41175547315622 exploreRate:0.07081659092287414\n",
            "episode: 33   reward: -65.52913491596249  avg so far:-122.62743363808974 exploreRate:0.06385196930544977\n",
            "episode: 34   reward: 45.65532638006178  avg so far:-117.6779406963794 exploreRate:0.05947462010942178\n",
            "episode: 35   reward: -98.25287930533236  avg so far:-117.12293894234949 exploreRate:0.03606867020194128\n",
            "episode: 36   reward: 6.820230598872342  avg so far:-113.68007312175999 exploreRate:0.03301303537089224\n",
            "episode: 37   reward: -108.63720616057702  avg so far:-113.54377942010639 exploreRate:0.020020914517268205\n",
            "episode: 38   reward: -108.90855229950255  avg so far:-113.42179975903788 exploreRate:0.012141780166666552\n",
            "episode: 39   reward: -25.044175225715986  avg so far:-111.15570682228602 exploreRate:0.01\n",
            "episode: 40   reward: -126.15047676851306  avg so far:-111.53057607094169 exploreRate:0.01\n",
            "episode: 41   reward: -43.77531417662884  avg so far:-109.87800870766577 exploreRate:0.01\n",
            "episode: 42   reward: -43.123175099112345  avg so far:-108.28860790746211 exploreRate:0.01\n",
            "episode: 43   reward: -100.5182473409772  avg so far:-108.1079018477764 exploreRate:0.01\n",
            "episode: 44   reward: -65.92399810005824  avg so far:-107.14917676260099 exploreRate:0.01\n",
            "episode: 45   reward: -32.2008811227646  avg so far:-105.48365908171573 exploreRate:0.01\n",
            "episode: 46   reward: -25.600394763270756  avg so far:-103.74706637914085 exploreRate:0.01\n",
            "episode: 47   reward: 73.3868140214886  avg so far:-99.97826041316999 exploreRate:0.01\n",
            "episode: 48   reward: -85.43135263016337  avg so far:-99.67519983435734 exploreRate:0.01\n",
            "episode: 49   reward: -90.91137663250993  avg so far:-99.49634629962577 exploreRate:0.01\n",
            "episode: 50   reward: 128.23571679537162  avg so far:-94.94170503772582 exploreRate:0.01\n",
            "episode: 51   reward: 68.76860588770795  avg so far:-91.7316989411487 exploreRate:0.01\n",
            "episode: 52   reward: -262.9954724249908  avg so far:-95.0252330466072 exploreRate:0.01\n",
            "episode: 53   reward: -95.22543142092798  avg so far:-95.02901037442456 exploreRate:0.01\n",
            "episode: 54   reward: -162.05536508436055  avg so far:-96.2702391653493 exploreRate:0.01\n",
            "episode: 55   reward: 242.41737014373243  avg so far:-90.11228263245691 exploreRate:0.01\n",
            "episode: 56   reward: 193.04829429450612  avg so far:-85.05584375876114 exploreRate:0.01\n",
            "episode: 57   reward: 250.65343404530105  avg so far:-79.1662073060583 exploreRate:0.01\n",
            "episode: 58   reward: -35.48540708002443  avg so far:-78.41309006078185 exploreRate:0.01\n",
            "episode: 59   reward: -70.7693369824549  avg so far:-78.28353492386105 exploreRate:0.01\n",
            "episode: 60   reward: 69.9686494157803  avg so far:-75.81266518486703 exploreRate:0.01\n",
            "episode: 61   reward: 252.09716276185156  avg so far:-70.43709423492082 exploreRate:0.01\n",
            "episode: 62   reward: -1.149097639294449  avg so far:-69.3195459027333 exploreRate:0.01\n",
            "episode: 63   reward: -25.78790627019859  avg so far:-68.62856749586767 exploreRate:0.01\n",
            "episode: 64   reward: -51.244471364036556  avg so far:-68.3569409938078 exploreRate:0.01\n",
            "episode: 65   reward: 55.53790385081092  avg so far:-66.45086645773674 exploreRate:0.01\n",
            "episode: 66   reward: 264.7640863334382  avg so far:-61.43245808211288 exploreRate:0.01\n",
            "episode: 67   reward: 263.3248732533085  avg so far:-56.585333733823006 exploreRate:0.01\n",
            "episode: 68   reward: 10.169582777947555  avg so far:-55.6036437851205 exploreRate:0.01\n",
            "episode: 69   reward: -45.114996452384325  avg so far:-55.45163440348664 exploreRate:0.01\n",
            "episode: 70   reward: -18.81944618263314  avg so far:-54.92831742890302 exploreRate:0.01\n",
            "episode: 71   reward: 117.76782624373142  avg so far:-52.49597737717578 exploreRate:0.01\n",
            "episode: 72   reward: 247.98414175402635  avg so far:-48.32264238924241 exploreRate:0.01\n",
            "episode: 73   reward: 107.0687045341863  avg so far:-46.19399380125023 exploreRate:0.01\n",
            "episode: 74   reward: 248.90100291027534  avg so far:-42.206223575418804 exploreRate:0.01\n",
            "episode: 75   reward: 256.73583401511615  avg so far:-38.22032947421167 exploreRate:0.01\n"
          ]
        },
        {
          "output_type": "error",
          "ename": "KeyboardInterrupt",
          "evalue": "ignored",
          "traceback": [
            "\u001b[0;31m---------------------------------------------------------------------------\u001b[0m",
            "\u001b[0;31mInvalidArgumentError\u001b[0m                      Traceback (most recent call last)",
            "\u001b[0;32m/usr/local/lib/python3.7/dist-packages/tensorflow/python/framework/ops.py\u001b[0m in \u001b[0;36mget_attr\u001b[0;34m(self, name)\u001b[0m\n\u001b[1;32m   2689\u001b[0m       \u001b[0;32mwith\u001b[0m \u001b[0mc_api_util\u001b[0m\u001b[0;34m.\u001b[0m\u001b[0mtf_buffer\u001b[0m\u001b[0;34m(\u001b[0m\u001b[0;34m)\u001b[0m \u001b[0;32mas\u001b[0m \u001b[0mbuf\u001b[0m\u001b[0;34m:\u001b[0m\u001b[0;34m\u001b[0m\u001b[0;34m\u001b[0m\u001b[0m\n\u001b[0;32m-> 2690\u001b[0;31m         \u001b[0mpywrap_tf_session\u001b[0m\u001b[0;34m.\u001b[0m\u001b[0mTF_OperationGetAttrValueProto\u001b[0m\u001b[0;34m(\u001b[0m\u001b[0mself\u001b[0m\u001b[0;34m.\u001b[0m\u001b[0m_c_op\u001b[0m\u001b[0;34m,\u001b[0m \u001b[0mname\u001b[0m\u001b[0;34m,\u001b[0m \u001b[0mbuf\u001b[0m\u001b[0;34m)\u001b[0m\u001b[0;34m\u001b[0m\u001b[0;34m\u001b[0m\u001b[0m\n\u001b[0m\u001b[1;32m   2691\u001b[0m         \u001b[0mdata\u001b[0m \u001b[0;34m=\u001b[0m \u001b[0mpywrap_tf_session\u001b[0m\u001b[0;34m.\u001b[0m\u001b[0mTF_GetBuffer\u001b[0m\u001b[0;34m(\u001b[0m\u001b[0mbuf\u001b[0m\u001b[0;34m)\u001b[0m\u001b[0;34m\u001b[0m\u001b[0;34m\u001b[0m\u001b[0m\n",
            "\u001b[0;31mInvalidArgumentError\u001b[0m: Operation 'args_0' has no attr named '_read_only_resource_inputs'.",
            "\nDuring handling of the above exception, another exception occurred:\n",
            "\u001b[0;31mKeyboardInterrupt\u001b[0m                         Traceback (most recent call last)",
            "\u001b[0;32m<ipython-input-8-b13c96b2c603>\u001b[0m in \u001b[0;36m<module>\u001b[0;34m()\u001b[0m\n\u001b[1;32m      6\u001b[0m   \u001b[0mrewards\u001b[0m\u001b[0;34m=\u001b[0m\u001b[0;36m0\u001b[0m\u001b[0;34m\u001b[0m\u001b[0;34m\u001b[0m\u001b[0m\n\u001b[1;32m      7\u001b[0m   \u001b[0;32mwhile\u001b[0m \u001b[0;32mnot\u001b[0m \u001b[0mdone\u001b[0m\u001b[0;34m:\u001b[0m\u001b[0;34m\u001b[0m\u001b[0;34m\u001b[0m\u001b[0m\n\u001b[0;32m----> 8\u001b[0;31m     \u001b[0maction\u001b[0m\u001b[0;34m=\u001b[0m\u001b[0magent\u001b[0m\u001b[0;34m.\u001b[0m\u001b[0mgetAction\u001b[0m\u001b[0;34m(\u001b[0m\u001b[0mstate\u001b[0m\u001b[0;34m)\u001b[0m\u001b[0;34m\u001b[0m\u001b[0;34m\u001b[0m\u001b[0m\n\u001b[0m\u001b[1;32m      9\u001b[0m     \u001b[0mnextState\u001b[0m\u001b[0;34m,\u001b[0m\u001b[0mreward\u001b[0m\u001b[0;34m,\u001b[0m\u001b[0mdone\u001b[0m\u001b[0;34m,\u001b[0m\u001b[0minfo\u001b[0m\u001b[0;34m=\u001b[0m\u001b[0menv\u001b[0m\u001b[0;34m.\u001b[0m\u001b[0mstep\u001b[0m\u001b[0;34m(\u001b[0m\u001b[0maction\u001b[0m\u001b[0;34m)\u001b[0m\u001b[0;34m\u001b[0m\u001b[0;34m\u001b[0m\u001b[0m\n\u001b[1;32m     10\u001b[0m     \u001b[0magent\u001b[0m\u001b[0;34m.\u001b[0m\u001b[0mmemory\u001b[0m\u001b[0;34m.\u001b[0m\u001b[0msave\u001b[0m\u001b[0;34m(\u001b[0m\u001b[0mstate\u001b[0m\u001b[0;34m,\u001b[0m\u001b[0maction\u001b[0m\u001b[0;34m,\u001b[0m\u001b[0mreward\u001b[0m\u001b[0;34m,\u001b[0m\u001b[0mnextState\u001b[0m\u001b[0;34m,\u001b[0m\u001b[0mint\u001b[0m\u001b[0;34m(\u001b[0m\u001b[0mdone\u001b[0m\u001b[0;34m)\u001b[0m\u001b[0;34m)\u001b[0m\u001b[0;34m\u001b[0m\u001b[0;34m\u001b[0m\u001b[0m\n",
            "\u001b[0;32m<ipython-input-6-810f58d4a649>\u001b[0m in \u001b[0;36mgetAction\u001b[0;34m(self, state)\u001b[0m\n\u001b[1;32m     18\u001b[0m       \u001b[0;32mreturn\u001b[0m \u001b[0mnp\u001b[0m\u001b[0;34m.\u001b[0m\u001b[0mrandom\u001b[0m\u001b[0;34m.\u001b[0m\u001b[0mchoice\u001b[0m\u001b[0;34m(\u001b[0m\u001b[0;34m[\u001b[0m\u001b[0mi\u001b[0m \u001b[0;32mfor\u001b[0m \u001b[0mi\u001b[0m \u001b[0;32min\u001b[0m \u001b[0mrange\u001b[0m\u001b[0;34m(\u001b[0m\u001b[0menv\u001b[0m\u001b[0;34m.\u001b[0m\u001b[0maction_space\u001b[0m\u001b[0;34m.\u001b[0m\u001b[0mn\u001b[0m\u001b[0;34m)\u001b[0m\u001b[0;34m]\u001b[0m\u001b[0;34m)\u001b[0m\u001b[0;34m\u001b[0m\u001b[0;34m\u001b[0m\u001b[0m\n\u001b[1;32m     19\u001b[0m     \u001b[0;32melse\u001b[0m\u001b[0;34m:\u001b[0m\u001b[0;34m\u001b[0m\u001b[0;34m\u001b[0m\u001b[0m\n\u001b[0;32m---> 20\u001b[0;31m       \u001b[0;32mreturn\u001b[0m \u001b[0mnp\u001b[0m\u001b[0;34m.\u001b[0m\u001b[0margmax\u001b[0m\u001b[0;34m(\u001b[0m\u001b[0mself\u001b[0m\u001b[0;34m.\u001b[0m\u001b[0mmodel\u001b[0m\u001b[0;34m.\u001b[0m\u001b[0mpredict\u001b[0m\u001b[0;34m(\u001b[0m\u001b[0mnp\u001b[0m\u001b[0;34m.\u001b[0m\u001b[0mexpand_dims\u001b[0m\u001b[0;34m(\u001b[0m\u001b[0mstate\u001b[0m\u001b[0;34m,\u001b[0m\u001b[0maxis\u001b[0m\u001b[0;34m=\u001b[0m\u001b[0;36m0\u001b[0m\u001b[0;34m)\u001b[0m\u001b[0;34m)\u001b[0m\u001b[0;34m[\u001b[0m\u001b[0;36m0\u001b[0m\u001b[0;34m]\u001b[0m\u001b[0;34m)\u001b[0m\u001b[0;34m\u001b[0m\u001b[0;34m\u001b[0m\u001b[0m\n\u001b[0m\u001b[1;32m     21\u001b[0m \u001b[0;34m\u001b[0m\u001b[0m\n\u001b[1;32m     22\u001b[0m   \u001b[0;32mdef\u001b[0m \u001b[0mexploreDecay\u001b[0m\u001b[0;34m(\u001b[0m\u001b[0mself\u001b[0m\u001b[0;34m)\u001b[0m\u001b[0;34m:\u001b[0m\u001b[0;34m\u001b[0m\u001b[0;34m\u001b[0m\u001b[0m\n",
            "\u001b[0;32m/usr/local/lib/python3.7/dist-packages/keras/utils/traceback_utils.py\u001b[0m in \u001b[0;36merror_handler\u001b[0;34m(*args, **kwargs)\u001b[0m\n\u001b[1;32m     62\u001b[0m     \u001b[0mfiltered_tb\u001b[0m \u001b[0;34m=\u001b[0m \u001b[0;32mNone\u001b[0m\u001b[0;34m\u001b[0m\u001b[0;34m\u001b[0m\u001b[0m\n\u001b[1;32m     63\u001b[0m     \u001b[0;32mtry\u001b[0m\u001b[0;34m:\u001b[0m\u001b[0;34m\u001b[0m\u001b[0;34m\u001b[0m\u001b[0m\n\u001b[0;32m---> 64\u001b[0;31m       \u001b[0;32mreturn\u001b[0m \u001b[0mfn\u001b[0m\u001b[0;34m(\u001b[0m\u001b[0;34m*\u001b[0m\u001b[0margs\u001b[0m\u001b[0;34m,\u001b[0m \u001b[0;34m**\u001b[0m\u001b[0mkwargs\u001b[0m\u001b[0;34m)\u001b[0m\u001b[0;34m\u001b[0m\u001b[0;34m\u001b[0m\u001b[0m\n\u001b[0m\u001b[1;32m     65\u001b[0m     \u001b[0;32mexcept\u001b[0m \u001b[0mException\u001b[0m \u001b[0;32mas\u001b[0m \u001b[0me\u001b[0m\u001b[0;34m:\u001b[0m  \u001b[0;31m# pylint: disable=broad-except\u001b[0m\u001b[0;34m\u001b[0m\u001b[0;34m\u001b[0m\u001b[0m\n\u001b[1;32m     66\u001b[0m       \u001b[0mfiltered_tb\u001b[0m \u001b[0;34m=\u001b[0m \u001b[0m_process_traceback_frames\u001b[0m\u001b[0;34m(\u001b[0m\u001b[0me\u001b[0m\u001b[0;34m.\u001b[0m\u001b[0m__traceback__\u001b[0m\u001b[0;34m)\u001b[0m\u001b[0;34m\u001b[0m\u001b[0;34m\u001b[0m\u001b[0m\n",
            "\u001b[0;32m/usr/local/lib/python3.7/dist-packages/keras/engine/training.py\u001b[0m in \u001b[0;36mpredict\u001b[0;34m(self, x, batch_size, verbose, steps, callbacks, max_queue_size, workers, use_multiprocessing)\u001b[0m\n\u001b[1;32m   1959\u001b[0m           \u001b[0muse_multiprocessing\u001b[0m\u001b[0;34m=\u001b[0m\u001b[0muse_multiprocessing\u001b[0m\u001b[0;34m,\u001b[0m\u001b[0;34m\u001b[0m\u001b[0;34m\u001b[0m\u001b[0m\n\u001b[1;32m   1960\u001b[0m           \u001b[0mmodel\u001b[0m\u001b[0;34m=\u001b[0m\u001b[0mself\u001b[0m\u001b[0;34m,\u001b[0m\u001b[0;34m\u001b[0m\u001b[0;34m\u001b[0m\u001b[0m\n\u001b[0;32m-> 1961\u001b[0;31m           steps_per_execution=self._steps_per_execution)\n\u001b[0m\u001b[1;32m   1962\u001b[0m \u001b[0;34m\u001b[0m\u001b[0m\n\u001b[1;32m   1963\u001b[0m       \u001b[0;31m# Container that configures and calls `tf.keras.Callback`s.\u001b[0m\u001b[0;34m\u001b[0m\u001b[0;34m\u001b[0m\u001b[0;34m\u001b[0m\u001b[0m\n",
            "\u001b[0;32m/usr/local/lib/python3.7/dist-packages/keras/engine/data_adapter.py\u001b[0m in \u001b[0;36mget_data_handler\u001b[0;34m(*args, **kwargs)\u001b[0m\n\u001b[1;32m   1397\u001b[0m   \u001b[0;32mif\u001b[0m \u001b[0mgetattr\u001b[0m\u001b[0;34m(\u001b[0m\u001b[0mkwargs\u001b[0m\u001b[0;34m[\u001b[0m\u001b[0;34m\"model\"\u001b[0m\u001b[0;34m]\u001b[0m\u001b[0;34m,\u001b[0m \u001b[0;34m\"_cluster_coordinator\"\u001b[0m\u001b[0;34m,\u001b[0m \u001b[0;32mNone\u001b[0m\u001b[0;34m)\u001b[0m\u001b[0;34m:\u001b[0m\u001b[0;34m\u001b[0m\u001b[0;34m\u001b[0m\u001b[0m\n\u001b[1;32m   1398\u001b[0m     \u001b[0;32mreturn\u001b[0m \u001b[0m_ClusterCoordinatorDataHandler\u001b[0m\u001b[0;34m(\u001b[0m\u001b[0;34m*\u001b[0m\u001b[0margs\u001b[0m\u001b[0;34m,\u001b[0m \u001b[0;34m**\u001b[0m\u001b[0mkwargs\u001b[0m\u001b[0;34m)\u001b[0m\u001b[0;34m\u001b[0m\u001b[0;34m\u001b[0m\u001b[0m\n\u001b[0;32m-> 1399\u001b[0;31m   \u001b[0;32mreturn\u001b[0m \u001b[0mDataHandler\u001b[0m\u001b[0;34m(\u001b[0m\u001b[0;34m*\u001b[0m\u001b[0margs\u001b[0m\u001b[0;34m,\u001b[0m \u001b[0;34m**\u001b[0m\u001b[0mkwargs\u001b[0m\u001b[0;34m)\u001b[0m\u001b[0;34m\u001b[0m\u001b[0;34m\u001b[0m\u001b[0m\n\u001b[0m\u001b[1;32m   1400\u001b[0m \u001b[0;34m\u001b[0m\u001b[0m\n\u001b[1;32m   1401\u001b[0m \u001b[0;34m\u001b[0m\u001b[0m\n",
            "\u001b[0;32m/usr/local/lib/python3.7/dist-packages/keras/engine/data_adapter.py\u001b[0m in \u001b[0;36m__init__\u001b[0;34m(self, x, y, sample_weight, batch_size, steps_per_epoch, initial_epoch, epochs, shuffle, class_weight, max_queue_size, workers, use_multiprocessing, model, steps_per_execution, distribute)\u001b[0m\n\u001b[1;32m   1159\u001b[0m         \u001b[0muse_multiprocessing\u001b[0m\u001b[0;34m=\u001b[0m\u001b[0muse_multiprocessing\u001b[0m\u001b[0;34m,\u001b[0m\u001b[0;34m\u001b[0m\u001b[0;34m\u001b[0m\u001b[0m\n\u001b[1;32m   1160\u001b[0m         \u001b[0mdistribution_strategy\u001b[0m\u001b[0;34m=\u001b[0m\u001b[0mtf\u001b[0m\u001b[0;34m.\u001b[0m\u001b[0mdistribute\u001b[0m\u001b[0;34m.\u001b[0m\u001b[0mget_strategy\u001b[0m\u001b[0;34m(\u001b[0m\u001b[0;34m)\u001b[0m\u001b[0;34m,\u001b[0m\u001b[0;34m\u001b[0m\u001b[0;34m\u001b[0m\u001b[0m\n\u001b[0;32m-> 1161\u001b[0;31m         model=model)\n\u001b[0m\u001b[1;32m   1162\u001b[0m \u001b[0;34m\u001b[0m\u001b[0m\n\u001b[1;32m   1163\u001b[0m     \u001b[0mstrategy\u001b[0m \u001b[0;34m=\u001b[0m \u001b[0mtf\u001b[0m\u001b[0;34m.\u001b[0m\u001b[0mdistribute\u001b[0m\u001b[0;34m.\u001b[0m\u001b[0mget_strategy\u001b[0m\u001b[0;34m(\u001b[0m\u001b[0;34m)\u001b[0m\u001b[0;34m\u001b[0m\u001b[0;34m\u001b[0m\u001b[0m\n",
            "\u001b[0;32m/usr/local/lib/python3.7/dist-packages/keras/engine/data_adapter.py\u001b[0m in \u001b[0;36m__init__\u001b[0;34m(self, x, y, sample_weights, sample_weight_modes, batch_size, epochs, steps, shuffle, **kwargs)\u001b[0m\n\u001b[1;32m    324\u001b[0m       \u001b[0;32mreturn\u001b[0m \u001b[0mflat_dataset\u001b[0m\u001b[0;34m\u001b[0m\u001b[0;34m\u001b[0m\u001b[0m\n\u001b[1;32m    325\u001b[0m \u001b[0;34m\u001b[0m\u001b[0m\n\u001b[0;32m--> 326\u001b[0;31m     \u001b[0mindices_dataset\u001b[0m \u001b[0;34m=\u001b[0m \u001b[0mindices_dataset\u001b[0m\u001b[0;34m.\u001b[0m\u001b[0mflat_map\u001b[0m\u001b[0;34m(\u001b[0m\u001b[0mslice_batch_indices\u001b[0m\u001b[0;34m)\u001b[0m\u001b[0;34m\u001b[0m\u001b[0;34m\u001b[0m\u001b[0m\n\u001b[0m\u001b[1;32m    327\u001b[0m \u001b[0;34m\u001b[0m\u001b[0m\n\u001b[1;32m    328\u001b[0m     \u001b[0mdataset\u001b[0m \u001b[0;34m=\u001b[0m \u001b[0mself\u001b[0m\u001b[0;34m.\u001b[0m\u001b[0mslice_inputs\u001b[0m\u001b[0;34m(\u001b[0m\u001b[0mindices_dataset\u001b[0m\u001b[0;34m,\u001b[0m \u001b[0minputs\u001b[0m\u001b[0;34m)\u001b[0m\u001b[0;34m\u001b[0m\u001b[0;34m\u001b[0m\u001b[0m\n",
            "\u001b[0;32m/usr/local/lib/python3.7/dist-packages/tensorflow/python/data/ops/dataset_ops.py\u001b[0m in \u001b[0;36mflat_map\u001b[0;34m(self, map_func, name)\u001b[0m\n\u001b[1;32m   2058\u001b[0m       \u001b[0mDataset\u001b[0m\u001b[0;34m:\u001b[0m \u001b[0mA\u001b[0m\u001b[0;31m \u001b[0m\u001b[0;31m`\u001b[0m\u001b[0mDataset\u001b[0m\u001b[0;31m`\u001b[0m\u001b[0;34m.\u001b[0m\u001b[0;34m\u001b[0m\u001b[0;34m\u001b[0m\u001b[0m\n\u001b[1;32m   2059\u001b[0m     \"\"\"\n\u001b[0;32m-> 2060\u001b[0;31m     \u001b[0;32mreturn\u001b[0m \u001b[0mFlatMapDataset\u001b[0m\u001b[0;34m(\u001b[0m\u001b[0mself\u001b[0m\u001b[0;34m,\u001b[0m \u001b[0mmap_func\u001b[0m\u001b[0;34m,\u001b[0m \u001b[0mname\u001b[0m\u001b[0;34m=\u001b[0m\u001b[0mname\u001b[0m\u001b[0;34m)\u001b[0m\u001b[0;34m\u001b[0m\u001b[0;34m\u001b[0m\u001b[0m\n\u001b[0m\u001b[1;32m   2061\u001b[0m \u001b[0;34m\u001b[0m\u001b[0m\n\u001b[1;32m   2062\u001b[0m   def interleave(self,\n",
            "\u001b[0;32m/usr/local/lib/python3.7/dist-packages/tensorflow/python/data/ops/dataset_ops.py\u001b[0m in \u001b[0;36m__init__\u001b[0;34m(self, input_dataset, map_func, name)\u001b[0m\n\u001b[1;32m   5278\u001b[0m     \u001b[0mself\u001b[0m\u001b[0;34m.\u001b[0m\u001b[0m_input_dataset\u001b[0m \u001b[0;34m=\u001b[0m \u001b[0minput_dataset\u001b[0m\u001b[0;34m\u001b[0m\u001b[0;34m\u001b[0m\u001b[0m\n\u001b[1;32m   5279\u001b[0m     self._map_func = structured_function.StructuredFunctionWrapper(\n\u001b[0;32m-> 5280\u001b[0;31m         map_func, self._transformation_name(), dataset=input_dataset)\n\u001b[0m\u001b[1;32m   5281\u001b[0m     \u001b[0;32mif\u001b[0m \u001b[0;32mnot\u001b[0m \u001b[0misinstance\u001b[0m\u001b[0;34m(\u001b[0m\u001b[0mself\u001b[0m\u001b[0;34m.\u001b[0m\u001b[0m_map_func\u001b[0m\u001b[0;34m.\u001b[0m\u001b[0moutput_structure\u001b[0m\u001b[0;34m,\u001b[0m \u001b[0mDatasetSpec\u001b[0m\u001b[0;34m)\u001b[0m\u001b[0;34m:\u001b[0m\u001b[0;34m\u001b[0m\u001b[0;34m\u001b[0m\u001b[0m\n\u001b[1;32m   5282\u001b[0m       raise TypeError(\n",
            "\u001b[0;32m/usr/local/lib/python3.7/dist-packages/tensorflow/python/data/ops/structured_function.py\u001b[0m in \u001b[0;36m__init__\u001b[0;34m(self, func, transformation_name, dataset, input_classes, input_shapes, input_types, input_structure, add_to_graph, use_legacy_function, defun_kwargs)\u001b[0m\n\u001b[1;32m    269\u001b[0m         \u001b[0mfn_factory\u001b[0m \u001b[0;34m=\u001b[0m \u001b[0mtrace_tf_function\u001b[0m\u001b[0;34m(\u001b[0m\u001b[0mdefun_kwargs\u001b[0m\u001b[0;34m)\u001b[0m\u001b[0;34m\u001b[0m\u001b[0;34m\u001b[0m\u001b[0m\n\u001b[1;32m    270\u001b[0m \u001b[0;34m\u001b[0m\u001b[0m\n\u001b[0;32m--> 271\u001b[0;31m     \u001b[0mself\u001b[0m\u001b[0;34m.\u001b[0m\u001b[0m_function\u001b[0m \u001b[0;34m=\u001b[0m \u001b[0mfn_factory\u001b[0m\u001b[0;34m(\u001b[0m\u001b[0;34m)\u001b[0m\u001b[0;34m\u001b[0m\u001b[0;34m\u001b[0m\u001b[0m\n\u001b[0m\u001b[1;32m    272\u001b[0m     \u001b[0;31m# There is no graph to add in eager mode.\u001b[0m\u001b[0;34m\u001b[0m\u001b[0;34m\u001b[0m\u001b[0;34m\u001b[0m\u001b[0m\n\u001b[1;32m    273\u001b[0m     \u001b[0madd_to_graph\u001b[0m \u001b[0;34m&=\u001b[0m \u001b[0;32mnot\u001b[0m \u001b[0mcontext\u001b[0m\u001b[0;34m.\u001b[0m\u001b[0mexecuting_eagerly\u001b[0m\u001b[0;34m(\u001b[0m\u001b[0;34m)\u001b[0m\u001b[0;34m\u001b[0m\u001b[0;34m\u001b[0m\u001b[0m\n",
            "\u001b[0;32m/usr/local/lib/python3.7/dist-packages/tensorflow/python/eager/function.py\u001b[0m in \u001b[0;36mget_concrete_function\u001b[0;34m(self, *args, **kwargs)\u001b[0m\n\u001b[1;32m   3069\u001b[0m     \"\"\"\n\u001b[1;32m   3070\u001b[0m     graph_function = self._get_concrete_function_garbage_collected(\n\u001b[0;32m-> 3071\u001b[0;31m         *args, **kwargs)\n\u001b[0m\u001b[1;32m   3072\u001b[0m     \u001b[0mgraph_function\u001b[0m\u001b[0;34m.\u001b[0m\u001b[0m_garbage_collector\u001b[0m\u001b[0;34m.\u001b[0m\u001b[0mrelease\u001b[0m\u001b[0;34m(\u001b[0m\u001b[0;34m)\u001b[0m  \u001b[0;31m# pylint: disable=protected-access\u001b[0m\u001b[0;34m\u001b[0m\u001b[0;34m\u001b[0m\u001b[0m\n\u001b[1;32m   3073\u001b[0m     \u001b[0;32mreturn\u001b[0m \u001b[0mgraph_function\u001b[0m\u001b[0;34m\u001b[0m\u001b[0;34m\u001b[0m\u001b[0m\n",
            "\u001b[0;32m/usr/local/lib/python3.7/dist-packages/tensorflow/python/eager/function.py\u001b[0m in \u001b[0;36m_get_concrete_function_garbage_collected\u001b[0;34m(self, *args, **kwargs)\u001b[0m\n\u001b[1;32m   3034\u001b[0m       \u001b[0margs\u001b[0m\u001b[0;34m,\u001b[0m \u001b[0mkwargs\u001b[0m \u001b[0;34m=\u001b[0m \u001b[0;32mNone\u001b[0m\u001b[0;34m,\u001b[0m \u001b[0;32mNone\u001b[0m\u001b[0;34m\u001b[0m\u001b[0;34m\u001b[0m\u001b[0m\n\u001b[1;32m   3035\u001b[0m     \u001b[0;32mwith\u001b[0m \u001b[0mself\u001b[0m\u001b[0;34m.\u001b[0m\u001b[0m_lock\u001b[0m\u001b[0;34m:\u001b[0m\u001b[0;34m\u001b[0m\u001b[0;34m\u001b[0m\u001b[0m\n\u001b[0;32m-> 3036\u001b[0;31m       \u001b[0mgraph_function\u001b[0m\u001b[0;34m,\u001b[0m \u001b[0m_\u001b[0m \u001b[0;34m=\u001b[0m \u001b[0mself\u001b[0m\u001b[0;34m.\u001b[0m\u001b[0m_maybe_define_function\u001b[0m\u001b[0;34m(\u001b[0m\u001b[0margs\u001b[0m\u001b[0;34m,\u001b[0m \u001b[0mkwargs\u001b[0m\u001b[0;34m)\u001b[0m\u001b[0;34m\u001b[0m\u001b[0;34m\u001b[0m\u001b[0m\n\u001b[0m\u001b[1;32m   3037\u001b[0m       \u001b[0mseen_names\u001b[0m \u001b[0;34m=\u001b[0m \u001b[0mset\u001b[0m\u001b[0;34m(\u001b[0m\u001b[0;34m)\u001b[0m\u001b[0;34m\u001b[0m\u001b[0;34m\u001b[0m\u001b[0m\n\u001b[1;32m   3038\u001b[0m       captured = object_identity.ObjectIdentitySet(\n",
            "\u001b[0;32m/usr/local/lib/python3.7/dist-packages/tensorflow/python/eager/function.py\u001b[0m in \u001b[0;36m_maybe_define_function\u001b[0;34m(self, args, kwargs)\u001b[0m\n\u001b[1;32m   3290\u001b[0m \u001b[0;34m\u001b[0m\u001b[0m\n\u001b[1;32m   3291\u001b[0m           \u001b[0mself\u001b[0m\u001b[0;34m.\u001b[0m\u001b[0m_function_cache\u001b[0m\u001b[0;34m.\u001b[0m\u001b[0madd_call_context\u001b[0m\u001b[0;34m(\u001b[0m\u001b[0mcache_key\u001b[0m\u001b[0;34m.\u001b[0m\u001b[0mcall_context\u001b[0m\u001b[0;34m)\u001b[0m\u001b[0;34m\u001b[0m\u001b[0;34m\u001b[0m\u001b[0m\n\u001b[0;32m-> 3292\u001b[0;31m           \u001b[0mgraph_function\u001b[0m \u001b[0;34m=\u001b[0m \u001b[0mself\u001b[0m\u001b[0;34m.\u001b[0m\u001b[0m_create_graph_function\u001b[0m\u001b[0;34m(\u001b[0m\u001b[0margs\u001b[0m\u001b[0;34m,\u001b[0m \u001b[0mkwargs\u001b[0m\u001b[0;34m)\u001b[0m\u001b[0;34m\u001b[0m\u001b[0;34m\u001b[0m\u001b[0m\n\u001b[0m\u001b[1;32m   3293\u001b[0m           self._function_cache.add(cache_key, cache_key_deletion_observer,\n\u001b[1;32m   3294\u001b[0m                                    graph_function)\n",
            "\u001b[0;32m/usr/local/lib/python3.7/dist-packages/tensorflow/python/eager/function.py\u001b[0m in \u001b[0;36m_create_graph_function\u001b[0;34m(self, args, kwargs, override_flat_arg_shapes)\u001b[0m\n\u001b[1;32m   3138\u001b[0m             \u001b[0marg_names\u001b[0m\u001b[0;34m=\u001b[0m\u001b[0marg_names\u001b[0m\u001b[0;34m,\u001b[0m\u001b[0;34m\u001b[0m\u001b[0;34m\u001b[0m\u001b[0m\n\u001b[1;32m   3139\u001b[0m             \u001b[0moverride_flat_arg_shapes\u001b[0m\u001b[0;34m=\u001b[0m\u001b[0moverride_flat_arg_shapes\u001b[0m\u001b[0;34m,\u001b[0m\u001b[0;34m\u001b[0m\u001b[0;34m\u001b[0m\u001b[0m\n\u001b[0;32m-> 3140\u001b[0;31m             capture_by_value=self._capture_by_value),\n\u001b[0m\u001b[1;32m   3141\u001b[0m         \u001b[0mself\u001b[0m\u001b[0;34m.\u001b[0m\u001b[0m_function_attributes\u001b[0m\u001b[0;34m,\u001b[0m\u001b[0;34m\u001b[0m\u001b[0;34m\u001b[0m\u001b[0m\n\u001b[1;32m   3142\u001b[0m         \u001b[0mfunction_spec\u001b[0m\u001b[0;34m=\u001b[0m\u001b[0mself\u001b[0m\u001b[0;34m.\u001b[0m\u001b[0mfunction_spec\u001b[0m\u001b[0;34m,\u001b[0m\u001b[0;34m\u001b[0m\u001b[0;34m\u001b[0m\u001b[0m\n",
            "\u001b[0;32m/usr/local/lib/python3.7/dist-packages/tensorflow/python/framework/func_graph.py\u001b[0m in \u001b[0;36mfunc_graph_from_py_func\u001b[0;34m(name, python_func, args, kwargs, signature, func_graph, autograph, autograph_options, add_control_dependencies, arg_names, op_return_value, collections, capture_by_value, override_flat_arg_shapes, acd_record_initial_resource_uses)\u001b[0m\n\u001b[1;32m   1200\u001b[0m         if x is not None)\n\u001b[1;32m   1201\u001b[0m \u001b[0;34m\u001b[0m\u001b[0m\n\u001b[0;32m-> 1202\u001b[0;31m     \u001b[0mfunc_graph\u001b[0m\u001b[0;34m.\u001b[0m\u001b[0mvariables\u001b[0m \u001b[0;34m=\u001b[0m \u001b[0mvariables\u001b[0m\u001b[0;34m\u001b[0m\u001b[0;34m\u001b[0m\u001b[0m\n\u001b[0m\u001b[1;32m   1203\u001b[0m \u001b[0;34m\u001b[0m\u001b[0m\n\u001b[1;32m   1204\u001b[0m   \u001b[0;32mif\u001b[0m \u001b[0madd_control_dependencies\u001b[0m\u001b[0;34m:\u001b[0m\u001b[0;34m\u001b[0m\u001b[0;34m\u001b[0m\u001b[0m\n",
            "\u001b[0;32m/usr/local/lib/python3.7/dist-packages/tensorflow/python/framework/auto_control_deps.py\u001b[0m in \u001b[0;36m__exit__\u001b[0;34m(self, unused_type, unused_value, unused_traceback)\u001b[0m\n\u001b[1;32m    463\u001b[0m       \u001b[0;31m# Check for any resource inputs. If we find any, we update control_inputs\u001b[0m\u001b[0;34m\u001b[0m\u001b[0;34m\u001b[0m\u001b[0;34m\u001b[0m\u001b[0m\n\u001b[1;32m    464\u001b[0m       \u001b[0;31m# and last_write_to_resource.\u001b[0m\u001b[0;34m\u001b[0m\u001b[0;34m\u001b[0m\u001b[0;34m\u001b[0m\u001b[0m\n\u001b[0;32m--> 465\u001b[0;31m       \u001b[0;32mfor\u001b[0m \u001b[0minp\u001b[0m\u001b[0;34m,\u001b[0m \u001b[0mresource_type\u001b[0m \u001b[0;32min\u001b[0m \u001b[0m_get_resource_inputs\u001b[0m\u001b[0;34m(\u001b[0m\u001b[0mop\u001b[0m\u001b[0;34m)\u001b[0m\u001b[0;34m:\u001b[0m\u001b[0;34m\u001b[0m\u001b[0;34m\u001b[0m\u001b[0m\n\u001b[0m\u001b[1;32m    466\u001b[0m         \u001b[0mis_read\u001b[0m \u001b[0;34m=\u001b[0m \u001b[0mresource_type\u001b[0m \u001b[0;34m==\u001b[0m \u001b[0mResourceType\u001b[0m\u001b[0;34m.\u001b[0m\u001b[0mREAD_ONLY\u001b[0m\u001b[0;34m\u001b[0m\u001b[0;34m\u001b[0m\u001b[0m\n\u001b[1;32m    467\u001b[0m         \u001b[0minput_id\u001b[0m \u001b[0;34m=\u001b[0m \u001b[0mops\u001b[0m\u001b[0;34m.\u001b[0m\u001b[0mtensor_id\u001b[0m\u001b[0;34m(\u001b[0m\u001b[0minp\u001b[0m\u001b[0;34m)\u001b[0m\u001b[0;34m\u001b[0m\u001b[0;34m\u001b[0m\u001b[0m\n",
            "\u001b[0;32m/usr/local/lib/python3.7/dist-packages/tensorflow/python/framework/auto_control_deps.py\u001b[0m in \u001b[0;36m_get_resource_inputs\u001b[0;34m(op)\u001b[0m\n\u001b[1;32m    661\u001b[0m \u001b[0;32mdef\u001b[0m \u001b[0m_get_resource_inputs\u001b[0m\u001b[0;34m(\u001b[0m\u001b[0mop\u001b[0m\u001b[0;34m)\u001b[0m\u001b[0;34m:\u001b[0m\u001b[0;34m\u001b[0m\u001b[0;34m\u001b[0m\u001b[0m\n\u001b[1;32m    662\u001b[0m   \u001b[0;34m\"\"\"Returns an iterable of resources touched by this `op`.\"\"\"\u001b[0m\u001b[0;34m\u001b[0m\u001b[0;34m\u001b[0m\u001b[0m\n\u001b[0;32m--> 663\u001b[0;31m   \u001b[0mreads\u001b[0m\u001b[0;34m,\u001b[0m \u001b[0mwrites\u001b[0m \u001b[0;34m=\u001b[0m \u001b[0mutils\u001b[0m\u001b[0;34m.\u001b[0m\u001b[0mget_read_write_resource_inputs\u001b[0m\u001b[0;34m(\u001b[0m\u001b[0mop\u001b[0m\u001b[0;34m)\u001b[0m\u001b[0;34m\u001b[0m\u001b[0;34m\u001b[0m\u001b[0m\n\u001b[0m\u001b[1;32m    664\u001b[0m   \u001b[0msaturated\u001b[0m \u001b[0;34m=\u001b[0m \u001b[0;32mFalse\u001b[0m\u001b[0;34m\u001b[0m\u001b[0;34m\u001b[0m\u001b[0m\n\u001b[1;32m    665\u001b[0m   \u001b[0;32mwhile\u001b[0m \u001b[0;32mnot\u001b[0m \u001b[0msaturated\u001b[0m\u001b[0;34m:\u001b[0m\u001b[0;34m\u001b[0m\u001b[0;34m\u001b[0m\u001b[0m\n",
            "\u001b[0;32m/usr/local/lib/python3.7/dist-packages/tensorflow/python/framework/auto_control_deps_utils.py\u001b[0m in \u001b[0;36mget_read_write_resource_inputs\u001b[0;34m(op)\u001b[0m\n\u001b[1;32m    103\u001b[0m \u001b[0;34m\u001b[0m\u001b[0m\n\u001b[1;32m    104\u001b[0m   \u001b[0;32mtry\u001b[0m\u001b[0;34m:\u001b[0m\u001b[0;34m\u001b[0m\u001b[0;34m\u001b[0m\u001b[0m\n\u001b[0;32m--> 105\u001b[0;31m     \u001b[0mread_only_input_indices\u001b[0m \u001b[0;34m=\u001b[0m \u001b[0mop\u001b[0m\u001b[0;34m.\u001b[0m\u001b[0mget_attr\u001b[0m\u001b[0;34m(\u001b[0m\u001b[0mREAD_ONLY_RESOURCE_INPUTS_ATTR\u001b[0m\u001b[0;34m)\u001b[0m\u001b[0;34m\u001b[0m\u001b[0;34m\u001b[0m\u001b[0m\n\u001b[0m\u001b[1;32m    106\u001b[0m   \u001b[0;32mexcept\u001b[0m \u001b[0mValueError\u001b[0m\u001b[0;34m:\u001b[0m\u001b[0;34m\u001b[0m\u001b[0;34m\u001b[0m\u001b[0m\n\u001b[1;32m    107\u001b[0m     \u001b[0;31m# Attr was not set. Add all resource inputs to `writes` and return.\u001b[0m\u001b[0;34m\u001b[0m\u001b[0;34m\u001b[0m\u001b[0;34m\u001b[0m\u001b[0m\n",
            "\u001b[0;32m/usr/local/lib/python3.7/dist-packages/tensorflow/python/framework/ops.py\u001b[0m in \u001b[0;36mget_attr\u001b[0;34m(self, name)\u001b[0m\n\u001b[1;32m   2688\u001b[0m     \u001b[0;32mtry\u001b[0m\u001b[0;34m:\u001b[0m\u001b[0;34m\u001b[0m\u001b[0;34m\u001b[0m\u001b[0m\n\u001b[1;32m   2689\u001b[0m       \u001b[0;32mwith\u001b[0m \u001b[0mc_api_util\u001b[0m\u001b[0;34m.\u001b[0m\u001b[0mtf_buffer\u001b[0m\u001b[0;34m(\u001b[0m\u001b[0;34m)\u001b[0m \u001b[0;32mas\u001b[0m \u001b[0mbuf\u001b[0m\u001b[0;34m:\u001b[0m\u001b[0;34m\u001b[0m\u001b[0;34m\u001b[0m\u001b[0m\n\u001b[0;32m-> 2690\u001b[0;31m         \u001b[0mpywrap_tf_session\u001b[0m\u001b[0;34m.\u001b[0m\u001b[0mTF_OperationGetAttrValueProto\u001b[0m\u001b[0;34m(\u001b[0m\u001b[0mself\u001b[0m\u001b[0;34m.\u001b[0m\u001b[0m_c_op\u001b[0m\u001b[0;34m,\u001b[0m \u001b[0mname\u001b[0m\u001b[0;34m,\u001b[0m \u001b[0mbuf\u001b[0m\u001b[0;34m)\u001b[0m\u001b[0;34m\u001b[0m\u001b[0;34m\u001b[0m\u001b[0m\n\u001b[0m\u001b[1;32m   2691\u001b[0m         \u001b[0mdata\u001b[0m \u001b[0;34m=\u001b[0m \u001b[0mpywrap_tf_session\u001b[0m\u001b[0;34m.\u001b[0m\u001b[0mTF_GetBuffer\u001b[0m\u001b[0;34m(\u001b[0m\u001b[0mbuf\u001b[0m\u001b[0;34m)\u001b[0m\u001b[0;34m\u001b[0m\u001b[0;34m\u001b[0m\u001b[0m\n\u001b[1;32m   2692\u001b[0m     \u001b[0;32mexcept\u001b[0m \u001b[0merrors\u001b[0m\u001b[0;34m.\u001b[0m\u001b[0mInvalidArgumentError\u001b[0m \u001b[0;32mas\u001b[0m \u001b[0me\u001b[0m\u001b[0;34m:\u001b[0m\u001b[0;34m\u001b[0m\u001b[0;34m\u001b[0m\u001b[0m\n",
            "\u001b[0;31mKeyboardInterrupt\u001b[0m: "
          ]
        }
      ]
    },
    {
      "cell_type": "code",
      "execution_count": 9,
      "metadata": {
        "id": "rFBZ-TCb8m48",
        "colab": {
          "base_uri": "https://localhost:8080/",
          "height": 281
        },
        "outputId": "91c740a2-056b-49eb-9697-1d226498760f"
      },
      "outputs": [
        {
          "output_type": "display_data",
          "data": {
            "text/plain": [
              "<Figure size 432x288 with 1 Axes>"
            ],
            "image/png": "[encoded data removed]"
          },
          "metadata": {
            "needs_background": "light"
          }
        }
      ],
      "source": [
        "plt.title(f'Total Rewards')\n",
        "plt.yscale('symlog')\n",
        "plt.plot(totalRewards)\n",
        "plt.savefig(\"Total Rewards\",dpi=200)\n",
        "plt.clf()\n",
        "plt.title(f'Average Rewards')\n",
        "plt.yscale('symlog')\n",
        "plt.plot(averageRewards)\n",
        "plt.savefig(\"Average Rewards\",dpi=200)"
      ]
    }
  ],
  "metadata": {
    "colab": {
      "collapsed_sections": [],
      "name": "Dueling_DQN_for_Gym_LunarLander.ipynb",
      "provenance": []
    },
    "kernelspec": {
      "display_name": "Python 3",
      "name": "python3"
    },
    "language_info": {
      "name": "python"
    }
  },
  "nbformat": 4,
  "nbformat_minor": 0
}